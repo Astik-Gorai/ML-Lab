{
 "cells": [
  {
   "cell_type": "code",
   "execution_count": 2,
   "id": "47b2494b",
   "metadata": {},
   "outputs": [],
   "source": [
    "import pandas as pd\n",
    "import numpy as np\n",
    "import matplotlib.pyplot as plt"
   ]
  },
  {
   "cell_type": "code",
   "execution_count": 3,
   "id": "a48b6c81",
   "metadata": {},
   "outputs": [],
   "source": [
    "df = pd.read_csv('train_and_test2.csv')"
   ]
  },
  {
   "cell_type": "code",
   "execution_count": 4,
   "id": "9206103f",
   "metadata": {},
   "outputs": [
    {
     "data": {
      "text/html": [
       "<div>\n",
       "<style scoped>\n",
       "    .dataframe tbody tr th:only-of-type {\n",
       "        vertical-align: middle;\n",
       "    }\n",
       "\n",
       "    .dataframe tbody tr th {\n",
       "        vertical-align: top;\n",
       "    }\n",
       "\n",
       "    .dataframe thead th {\n",
       "        text-align: right;\n",
       "    }\n",
       "</style>\n",
       "<table border=\"1\" class=\"dataframe\">\n",
       "  <thead>\n",
       "    <tr style=\"text-align: right;\">\n",
       "      <th></th>\n",
       "      <th>Passengerid</th>\n",
       "      <th>Age</th>\n",
       "      <th>Fare</th>\n",
       "      <th>Sex</th>\n",
       "      <th>sibsp</th>\n",
       "      <th>zero</th>\n",
       "      <th>zero.1</th>\n",
       "      <th>zero.2</th>\n",
       "      <th>zero.3</th>\n",
       "      <th>zero.4</th>\n",
       "      <th>...</th>\n",
       "      <th>zero.12</th>\n",
       "      <th>zero.13</th>\n",
       "      <th>zero.14</th>\n",
       "      <th>Pclass</th>\n",
       "      <th>zero.15</th>\n",
       "      <th>zero.16</th>\n",
       "      <th>Embarked</th>\n",
       "      <th>zero.17</th>\n",
       "      <th>zero.18</th>\n",
       "      <th>2urvived</th>\n",
       "    </tr>\n",
       "  </thead>\n",
       "  <tbody>\n",
       "    <tr>\n",
       "      <th>0</th>\n",
       "      <td>1</td>\n",
       "      <td>22.0</td>\n",
       "      <td>7.2500</td>\n",
       "      <td>0</td>\n",
       "      <td>1</td>\n",
       "      <td>0</td>\n",
       "      <td>0</td>\n",
       "      <td>0</td>\n",
       "      <td>0</td>\n",
       "      <td>0</td>\n",
       "      <td>...</td>\n",
       "      <td>0</td>\n",
       "      <td>0</td>\n",
       "      <td>0</td>\n",
       "      <td>3</td>\n",
       "      <td>0</td>\n",
       "      <td>0</td>\n",
       "      <td>2.0</td>\n",
       "      <td>0</td>\n",
       "      <td>0</td>\n",
       "      <td>0</td>\n",
       "    </tr>\n",
       "    <tr>\n",
       "      <th>1</th>\n",
       "      <td>2</td>\n",
       "      <td>38.0</td>\n",
       "      <td>71.2833</td>\n",
       "      <td>1</td>\n",
       "      <td>1</td>\n",
       "      <td>0</td>\n",
       "      <td>0</td>\n",
       "      <td>0</td>\n",
       "      <td>0</td>\n",
       "      <td>0</td>\n",
       "      <td>...</td>\n",
       "      <td>0</td>\n",
       "      <td>0</td>\n",
       "      <td>0</td>\n",
       "      <td>1</td>\n",
       "      <td>0</td>\n",
       "      <td>0</td>\n",
       "      <td>0.0</td>\n",
       "      <td>0</td>\n",
       "      <td>0</td>\n",
       "      <td>1</td>\n",
       "    </tr>\n",
       "    <tr>\n",
       "      <th>2</th>\n",
       "      <td>3</td>\n",
       "      <td>26.0</td>\n",
       "      <td>7.9250</td>\n",
       "      <td>1</td>\n",
       "      <td>0</td>\n",
       "      <td>0</td>\n",
       "      <td>0</td>\n",
       "      <td>0</td>\n",
       "      <td>0</td>\n",
       "      <td>0</td>\n",
       "      <td>...</td>\n",
       "      <td>0</td>\n",
       "      <td>0</td>\n",
       "      <td>0</td>\n",
       "      <td>3</td>\n",
       "      <td>0</td>\n",
       "      <td>0</td>\n",
       "      <td>2.0</td>\n",
       "      <td>0</td>\n",
       "      <td>0</td>\n",
       "      <td>1</td>\n",
       "    </tr>\n",
       "    <tr>\n",
       "      <th>3</th>\n",
       "      <td>4</td>\n",
       "      <td>35.0</td>\n",
       "      <td>53.1000</td>\n",
       "      <td>1</td>\n",
       "      <td>1</td>\n",
       "      <td>0</td>\n",
       "      <td>0</td>\n",
       "      <td>0</td>\n",
       "      <td>0</td>\n",
       "      <td>0</td>\n",
       "      <td>...</td>\n",
       "      <td>0</td>\n",
       "      <td>0</td>\n",
       "      <td>0</td>\n",
       "      <td>1</td>\n",
       "      <td>0</td>\n",
       "      <td>0</td>\n",
       "      <td>2.0</td>\n",
       "      <td>0</td>\n",
       "      <td>0</td>\n",
       "      <td>1</td>\n",
       "    </tr>\n",
       "    <tr>\n",
       "      <th>4</th>\n",
       "      <td>5</td>\n",
       "      <td>35.0</td>\n",
       "      <td>8.0500</td>\n",
       "      <td>0</td>\n",
       "      <td>0</td>\n",
       "      <td>0</td>\n",
       "      <td>0</td>\n",
       "      <td>0</td>\n",
       "      <td>0</td>\n",
       "      <td>0</td>\n",
       "      <td>...</td>\n",
       "      <td>0</td>\n",
       "      <td>0</td>\n",
       "      <td>0</td>\n",
       "      <td>3</td>\n",
       "      <td>0</td>\n",
       "      <td>0</td>\n",
       "      <td>2.0</td>\n",
       "      <td>0</td>\n",
       "      <td>0</td>\n",
       "      <td>0</td>\n",
       "    </tr>\n",
       "  </tbody>\n",
       "</table>\n",
       "<p>5 rows × 28 columns</p>\n",
       "</div>"
      ],
      "text/plain": [
       "   Passengerid   Age     Fare  Sex  sibsp  zero  zero.1  zero.2  zero.3  \\\n",
       "0            1  22.0   7.2500    0      1     0       0       0       0   \n",
       "1            2  38.0  71.2833    1      1     0       0       0       0   \n",
       "2            3  26.0   7.9250    1      0     0       0       0       0   \n",
       "3            4  35.0  53.1000    1      1     0       0       0       0   \n",
       "4            5  35.0   8.0500    0      0     0       0       0       0   \n",
       "\n",
       "   zero.4  ...  zero.12  zero.13  zero.14  Pclass  zero.15  zero.16  Embarked  \\\n",
       "0       0  ...        0        0        0       3        0        0       2.0   \n",
       "1       0  ...        0        0        0       1        0        0       0.0   \n",
       "2       0  ...        0        0        0       3        0        0       2.0   \n",
       "3       0  ...        0        0        0       1        0        0       2.0   \n",
       "4       0  ...        0        0        0       3        0        0       2.0   \n",
       "\n",
       "   zero.17  zero.18  2urvived  \n",
       "0        0        0         0  \n",
       "1        0        0         1  \n",
       "2        0        0         1  \n",
       "3        0        0         1  \n",
       "4        0        0         0  \n",
       "\n",
       "[5 rows x 28 columns]"
      ]
     },
     "execution_count": 4,
     "metadata": {},
     "output_type": "execute_result"
    }
   ],
   "source": [
    "df.head(5)"
   ]
  },
  {
   "cell_type": "code",
   "execution_count": 5,
   "id": "ddfc3f2b",
   "metadata": {},
   "outputs": [
    {
     "data": {
      "text/plain": [
       "Passengerid    0\n",
       "Age            0\n",
       "Fare           0\n",
       "Sex            0\n",
       "sibsp          0\n",
       "zero           0\n",
       "zero.1         0\n",
       "zero.2         0\n",
       "zero.3         0\n",
       "zero.4         0\n",
       "zero.5         0\n",
       "zero.6         0\n",
       "Parch          0\n",
       "zero.7         0\n",
       "zero.8         0\n",
       "zero.9         0\n",
       "zero.10        0\n",
       "zero.11        0\n",
       "zero.12        0\n",
       "zero.13        0\n",
       "zero.14        0\n",
       "Pclass         0\n",
       "zero.15        0\n",
       "zero.16        0\n",
       "Embarked       2\n",
       "zero.17        0\n",
       "zero.18        0\n",
       "2urvived       0\n",
       "dtype: int64"
      ]
     },
     "execution_count": 5,
     "metadata": {},
     "output_type": "execute_result"
    }
   ],
   "source": [
    "df.isnull().sum()"
   ]
  },
  {
   "cell_type": "code",
   "execution_count": 6,
   "id": "aa06af82",
   "metadata": {},
   "outputs": [],
   "source": [
    "df.dropna(axis=1,inplace=True)"
   ]
  },
  {
   "cell_type": "code",
   "execution_count": 7,
   "id": "6ad6bd66",
   "metadata": {},
   "outputs": [
    {
     "data": {
      "text/html": [
       "<div>\n",
       "<style scoped>\n",
       "    .dataframe tbody tr th:only-of-type {\n",
       "        vertical-align: middle;\n",
       "    }\n",
       "\n",
       "    .dataframe tbody tr th {\n",
       "        vertical-align: top;\n",
       "    }\n",
       "\n",
       "    .dataframe thead th {\n",
       "        text-align: right;\n",
       "    }\n",
       "</style>\n",
       "<table border=\"1\" class=\"dataframe\">\n",
       "  <thead>\n",
       "    <tr style=\"text-align: right;\">\n",
       "      <th></th>\n",
       "      <th>Passengerid</th>\n",
       "      <th>Age</th>\n",
       "      <th>Fare</th>\n",
       "      <th>Sex</th>\n",
       "      <th>sibsp</th>\n",
       "      <th>zero</th>\n",
       "      <th>zero.1</th>\n",
       "      <th>zero.2</th>\n",
       "      <th>zero.3</th>\n",
       "      <th>zero.4</th>\n",
       "      <th>...</th>\n",
       "      <th>zero.11</th>\n",
       "      <th>zero.12</th>\n",
       "      <th>zero.13</th>\n",
       "      <th>zero.14</th>\n",
       "      <th>Pclass</th>\n",
       "      <th>zero.15</th>\n",
       "      <th>zero.16</th>\n",
       "      <th>zero.17</th>\n",
       "      <th>zero.18</th>\n",
       "      <th>2urvived</th>\n",
       "    </tr>\n",
       "  </thead>\n",
       "  <tbody>\n",
       "    <tr>\n",
       "      <th>0</th>\n",
       "      <td>1</td>\n",
       "      <td>22.0</td>\n",
       "      <td>7.2500</td>\n",
       "      <td>0</td>\n",
       "      <td>1</td>\n",
       "      <td>0</td>\n",
       "      <td>0</td>\n",
       "      <td>0</td>\n",
       "      <td>0</td>\n",
       "      <td>0</td>\n",
       "      <td>...</td>\n",
       "      <td>0</td>\n",
       "      <td>0</td>\n",
       "      <td>0</td>\n",
       "      <td>0</td>\n",
       "      <td>3</td>\n",
       "      <td>0</td>\n",
       "      <td>0</td>\n",
       "      <td>0</td>\n",
       "      <td>0</td>\n",
       "      <td>0</td>\n",
       "    </tr>\n",
       "    <tr>\n",
       "      <th>1</th>\n",
       "      <td>2</td>\n",
       "      <td>38.0</td>\n",
       "      <td>71.2833</td>\n",
       "      <td>1</td>\n",
       "      <td>1</td>\n",
       "      <td>0</td>\n",
       "      <td>0</td>\n",
       "      <td>0</td>\n",
       "      <td>0</td>\n",
       "      <td>0</td>\n",
       "      <td>...</td>\n",
       "      <td>0</td>\n",
       "      <td>0</td>\n",
       "      <td>0</td>\n",
       "      <td>0</td>\n",
       "      <td>1</td>\n",
       "      <td>0</td>\n",
       "      <td>0</td>\n",
       "      <td>0</td>\n",
       "      <td>0</td>\n",
       "      <td>1</td>\n",
       "    </tr>\n",
       "    <tr>\n",
       "      <th>2</th>\n",
       "      <td>3</td>\n",
       "      <td>26.0</td>\n",
       "      <td>7.9250</td>\n",
       "      <td>1</td>\n",
       "      <td>0</td>\n",
       "      <td>0</td>\n",
       "      <td>0</td>\n",
       "      <td>0</td>\n",
       "      <td>0</td>\n",
       "      <td>0</td>\n",
       "      <td>...</td>\n",
       "      <td>0</td>\n",
       "      <td>0</td>\n",
       "      <td>0</td>\n",
       "      <td>0</td>\n",
       "      <td>3</td>\n",
       "      <td>0</td>\n",
       "      <td>0</td>\n",
       "      <td>0</td>\n",
       "      <td>0</td>\n",
       "      <td>1</td>\n",
       "    </tr>\n",
       "    <tr>\n",
       "      <th>3</th>\n",
       "      <td>4</td>\n",
       "      <td>35.0</td>\n",
       "      <td>53.1000</td>\n",
       "      <td>1</td>\n",
       "      <td>1</td>\n",
       "      <td>0</td>\n",
       "      <td>0</td>\n",
       "      <td>0</td>\n",
       "      <td>0</td>\n",
       "      <td>0</td>\n",
       "      <td>...</td>\n",
       "      <td>0</td>\n",
       "      <td>0</td>\n",
       "      <td>0</td>\n",
       "      <td>0</td>\n",
       "      <td>1</td>\n",
       "      <td>0</td>\n",
       "      <td>0</td>\n",
       "      <td>0</td>\n",
       "      <td>0</td>\n",
       "      <td>1</td>\n",
       "    </tr>\n",
       "    <tr>\n",
       "      <th>4</th>\n",
       "      <td>5</td>\n",
       "      <td>35.0</td>\n",
       "      <td>8.0500</td>\n",
       "      <td>0</td>\n",
       "      <td>0</td>\n",
       "      <td>0</td>\n",
       "      <td>0</td>\n",
       "      <td>0</td>\n",
       "      <td>0</td>\n",
       "      <td>0</td>\n",
       "      <td>...</td>\n",
       "      <td>0</td>\n",
       "      <td>0</td>\n",
       "      <td>0</td>\n",
       "      <td>0</td>\n",
       "      <td>3</td>\n",
       "      <td>0</td>\n",
       "      <td>0</td>\n",
       "      <td>0</td>\n",
       "      <td>0</td>\n",
       "      <td>0</td>\n",
       "    </tr>\n",
       "  </tbody>\n",
       "</table>\n",
       "<p>5 rows × 27 columns</p>\n",
       "</div>"
      ],
      "text/plain": [
       "   Passengerid   Age     Fare  Sex  sibsp  zero  zero.1  zero.2  zero.3  \\\n",
       "0            1  22.0   7.2500    0      1     0       0       0       0   \n",
       "1            2  38.0  71.2833    1      1     0       0       0       0   \n",
       "2            3  26.0   7.9250    1      0     0       0       0       0   \n",
       "3            4  35.0  53.1000    1      1     0       0       0       0   \n",
       "4            5  35.0   8.0500    0      0     0       0       0       0   \n",
       "\n",
       "   zero.4  ...  zero.11  zero.12  zero.13  zero.14  Pclass  zero.15  zero.16  \\\n",
       "0       0  ...        0        0        0        0       3        0        0   \n",
       "1       0  ...        0        0        0        0       1        0        0   \n",
       "2       0  ...        0        0        0        0       3        0        0   \n",
       "3       0  ...        0        0        0        0       1        0        0   \n",
       "4       0  ...        0        0        0        0       3        0        0   \n",
       "\n",
       "   zero.17  zero.18  2urvived  \n",
       "0        0        0         0  \n",
       "1        0        0         1  \n",
       "2        0        0         1  \n",
       "3        0        0         1  \n",
       "4        0        0         0  \n",
       "\n",
       "[5 rows x 27 columns]"
      ]
     },
     "execution_count": 7,
     "metadata": {},
     "output_type": "execute_result"
    }
   ],
   "source": [
    "df.head(5)"
   ]
  },
  {
   "cell_type": "code",
   "execution_count": 8,
   "id": "9c8bbbf0",
   "metadata": {
    "scrolled": true
   },
   "outputs": [
    {
     "data": {
      "text/plain": [
       "Passengerid    0\n",
       "Age            0\n",
       "Fare           0\n",
       "Sex            0\n",
       "sibsp          0\n",
       "zero           0\n",
       "zero.1         0\n",
       "zero.2         0\n",
       "zero.3         0\n",
       "zero.4         0\n",
       "zero.5         0\n",
       "zero.6         0\n",
       "Parch          0\n",
       "zero.7         0\n",
       "zero.8         0\n",
       "zero.9         0\n",
       "zero.10        0\n",
       "zero.11        0\n",
       "zero.12        0\n",
       "zero.13        0\n",
       "zero.14        0\n",
       "Pclass         0\n",
       "zero.15        0\n",
       "zero.16        0\n",
       "zero.17        0\n",
       "zero.18        0\n",
       "2urvived       0\n",
       "dtype: int64"
      ]
     },
     "execution_count": 8,
     "metadata": {},
     "output_type": "execute_result"
    }
   ],
   "source": [
    "df.isnull().sum()"
   ]
  },
  {
   "cell_type": "code",
   "execution_count": 9,
   "id": "88313f0e",
   "metadata": {},
   "outputs": [],
   "source": [
    "df = df[['Passengerid','Age','Fare','Sex','sibsp','Pclass','2urvived']]\n"
   ]
  },
  {
   "cell_type": "code",
   "execution_count": 10,
   "id": "c6cce6e5",
   "metadata": {},
   "outputs": [],
   "source": [
    "df.rename(columns={'2urvived': 'target'}, inplace=True)\n"
   ]
  },
  {
   "cell_type": "code",
   "execution_count": 11,
   "id": "2cadaa1e",
   "metadata": {
    "scrolled": false
   },
   "outputs": [
    {
     "data": {
      "text/html": [
       "<div>\n",
       "<style scoped>\n",
       "    .dataframe tbody tr th:only-of-type {\n",
       "        vertical-align: middle;\n",
       "    }\n",
       "\n",
       "    .dataframe tbody tr th {\n",
       "        vertical-align: top;\n",
       "    }\n",
       "\n",
       "    .dataframe thead th {\n",
       "        text-align: right;\n",
       "    }\n",
       "</style>\n",
       "<table border=\"1\" class=\"dataframe\">\n",
       "  <thead>\n",
       "    <tr style=\"text-align: right;\">\n",
       "      <th></th>\n",
       "      <th>Passengerid</th>\n",
       "      <th>Age</th>\n",
       "      <th>Fare</th>\n",
       "      <th>Sex</th>\n",
       "      <th>sibsp</th>\n",
       "      <th>Pclass</th>\n",
       "      <th>target</th>\n",
       "    </tr>\n",
       "  </thead>\n",
       "  <tbody>\n",
       "    <tr>\n",
       "      <th>0</th>\n",
       "      <td>1</td>\n",
       "      <td>22.0</td>\n",
       "      <td>7.2500</td>\n",
       "      <td>0</td>\n",
       "      <td>1</td>\n",
       "      <td>3</td>\n",
       "      <td>0</td>\n",
       "    </tr>\n",
       "    <tr>\n",
       "      <th>1</th>\n",
       "      <td>2</td>\n",
       "      <td>38.0</td>\n",
       "      <td>71.2833</td>\n",
       "      <td>1</td>\n",
       "      <td>1</td>\n",
       "      <td>1</td>\n",
       "      <td>1</td>\n",
       "    </tr>\n",
       "    <tr>\n",
       "      <th>2</th>\n",
       "      <td>3</td>\n",
       "      <td>26.0</td>\n",
       "      <td>7.9250</td>\n",
       "      <td>1</td>\n",
       "      <td>0</td>\n",
       "      <td>3</td>\n",
       "      <td>1</td>\n",
       "    </tr>\n",
       "    <tr>\n",
       "      <th>3</th>\n",
       "      <td>4</td>\n",
       "      <td>35.0</td>\n",
       "      <td>53.1000</td>\n",
       "      <td>1</td>\n",
       "      <td>1</td>\n",
       "      <td>1</td>\n",
       "      <td>1</td>\n",
       "    </tr>\n",
       "    <tr>\n",
       "      <th>4</th>\n",
       "      <td>5</td>\n",
       "      <td>35.0</td>\n",
       "      <td>8.0500</td>\n",
       "      <td>0</td>\n",
       "      <td>0</td>\n",
       "      <td>3</td>\n",
       "      <td>0</td>\n",
       "    </tr>\n",
       "  </tbody>\n",
       "</table>\n",
       "</div>"
      ],
      "text/plain": [
       "   Passengerid   Age     Fare  Sex  sibsp  Pclass  target\n",
       "0            1  22.0   7.2500    0      1       3       0\n",
       "1            2  38.0  71.2833    1      1       1       1\n",
       "2            3  26.0   7.9250    1      0       3       1\n",
       "3            4  35.0  53.1000    1      1       1       1\n",
       "4            5  35.0   8.0500    0      0       3       0"
      ]
     },
     "execution_count": 11,
     "metadata": {},
     "output_type": "execute_result"
    }
   ],
   "source": [
    "df.head(5)"
   ]
  },
  {
   "cell_type": "code",
   "execution_count": 12,
   "id": "1a9852fd",
   "metadata": {
    "scrolled": false
   },
   "outputs": [
    {
     "data": {
      "text/plain": [
       "(1309, 6)"
      ]
     },
     "execution_count": 12,
     "metadata": {},
     "output_type": "execute_result"
    }
   ],
   "source": [
    "X = df[['Passengerid','Age','Fare','Sex','sibsp','Pclass']]\n",
    "X.shape"
   ]
  },
  {
   "cell_type": "code",
   "execution_count": 13,
   "id": "eea00a7c",
   "metadata": {
    "scrolled": false
   },
   "outputs": [
    {
     "data": {
      "text/plain": [
       "(1309,)"
      ]
     },
     "execution_count": 13,
     "metadata": {},
     "output_type": "execute_result"
    }
   ],
   "source": [
    "y = df['target']\n",
    "y.shape"
   ]
  },
  {
   "cell_type": "code",
   "execution_count": 14,
   "id": "c3b563da",
   "metadata": {},
   "outputs": [],
   "source": [
    "from sklearn.model_selection import train_test_split\n",
    "X_train,x_test,y_train,y_test = train_test_split(X,y,train_size=0.8)"
   ]
  },
  {
   "cell_type": "code",
   "execution_count": 15,
   "id": "dd0b127d",
   "metadata": {},
   "outputs": [],
   "source": [
    "from sklearn.svm import SVC\n",
    "from sklearn.metrics import accuracy_score"
   ]
  },
  {
   "cell_type": "markdown",
   "id": "e17f83bc",
   "metadata": {},
   "source": [
    "## Polynomial Kernal"
   ]
  },
  {
   "cell_type": "code",
   "execution_count": 16,
   "id": "29d7b54b",
   "metadata": {},
   "outputs": [
    {
     "name": "stdout",
     "output_type": "stream",
     "text": [
      "Accuracy for degree 2: 0.6870229007633588\n",
      "Accuracy for degree 3: 0.6870229007633588\n",
      "Accuracy for degree 5: 0.6870229007633588\n"
     ]
    }
   ],
   "source": [
    "degree_list = [2, 3, 5]\n",
    "accuracies = []\n",
    "\n",
    "for degree in degree_list:\n",
    "    clf = SVC(kernel='poly', degree=degree)\n",
    "    clf.fit(X_train, y_train)\n",
    "    \n",
    "    y_pred = clf.predict(x_test)\n",
    "    accuracy = accuracy_score(y_test, y_pred)\n",
    "    accuracies.append(accuracy)\n",
    "    print(f\"Accuracy for degree {degree}: {accuracy}\")\n"
   ]
  },
  {
   "cell_type": "markdown",
   "id": "05f8f8c4",
   "metadata": {},
   "source": [
    "## RBF Kernal"
   ]
  },
  {
   "cell_type": "code",
   "execution_count": 17,
   "id": "9f9b6477",
   "metadata": {},
   "outputs": [
    {
     "data": {
      "text/plain": [
       "0.6946564885496184"
      ]
     },
     "execution_count": 17,
     "metadata": {},
     "output_type": "execute_result"
    }
   ],
   "source": [
    "clf2 = SVC(kernel='rbf')\n",
    "clf2.fit(X_train, y_train)\n",
    "y_pred2 = clf2.predict(x_test)\n",
    "accuracy2 = accuracy_score(y_test, y_pred2)\n",
    "accuracy2"
   ]
  },
  {
   "cell_type": "markdown",
   "id": "b47ecc2e",
   "metadata": {},
   "source": [
    "## SIgmoid Kernal"
   ]
  },
  {
   "cell_type": "code",
   "execution_count": 18,
   "id": "14ddfdbe",
   "metadata": {},
   "outputs": [
    {
     "data": {
      "text/plain": [
       "0.583969465648855"
      ]
     },
     "execution_count": 18,
     "metadata": {},
     "output_type": "execute_result"
    }
   ],
   "source": [
    "clf3 = SVC(kernel = 'sigmoid')\n",
    "clf3.fit(X_train, y_train)\n",
    "y_pred3 = clf3.predict(x_test)\n",
    "accuracy3 = accuracy_score(y_test, y_pred3)\n",
    "accuracy3"
   ]
  },
  {
   "cell_type": "code",
   "execution_count": 19,
   "id": "d1e16866",
   "metadata": {},
   "outputs": [],
   "source": [
    "def my_kernel(X1, X2):\n",
    "    dot_product = np.dot(X1, X2.T)  # Transpose X2 for proper alignment\n",
    "    return np.log(1 + dot_product)"
   ]
  },
  {
   "cell_type": "code",
   "execution_count": 20,
   "id": "c224ff51",
   "metadata": {},
   "outputs": [],
   "source": [
    "X4_train = X_train[['Age','Sex']]\n",
    "x4_test =  x_test[['Age','Sex']]\n",
    "# y = df['target'].values"
   ]
  },
  {
   "cell_type": "code",
   "execution_count": 21,
   "id": "f0f25526",
   "metadata": {},
   "outputs": [
    {
     "data": {
      "text/plain": [
       "(1047, 2)"
      ]
     },
     "execution_count": 21,
     "metadata": {},
     "output_type": "execute_result"
    }
   ],
   "source": [
    "# X.shape\n",
    "X4_train.shape"
   ]
  },
  {
   "cell_type": "code",
   "execution_count": 22,
   "id": "9ca65c0d",
   "metadata": {},
   "outputs": [
    {
     "data": {
      "text/plain": [
       "(1309,)"
      ]
     },
     "execution_count": 22,
     "metadata": {},
     "output_type": "execute_result"
    }
   ],
   "source": [
    "y.shape"
   ]
  },
  {
   "cell_type": "code",
   "execution_count": 23,
   "id": "e319c90f",
   "metadata": {},
   "outputs": [],
   "source": [
    "clf4 = SVC(kernel=my_kernel)\n"
   ]
  },
  {
   "cell_type": "code",
   "execution_count": 24,
   "id": "37abaf45",
   "metadata": {},
   "outputs": [
    {
     "data": {
      "text/html": [
       "<style>#sk-container-id-1 {color: black;background-color: white;}#sk-container-id-1 pre{padding: 0;}#sk-container-id-1 div.sk-toggleable {background-color: white;}#sk-container-id-1 label.sk-toggleable__label {cursor: pointer;display: block;width: 100%;margin-bottom: 0;padding: 0.3em;box-sizing: border-box;text-align: center;}#sk-container-id-1 label.sk-toggleable__label-arrow:before {content: \"▸\";float: left;margin-right: 0.25em;color: #696969;}#sk-container-id-1 label.sk-toggleable__label-arrow:hover:before {color: black;}#sk-container-id-1 div.sk-estimator:hover label.sk-toggleable__label-arrow:before {color: black;}#sk-container-id-1 div.sk-toggleable__content {max-height: 0;max-width: 0;overflow: hidden;text-align: left;background-color: #f0f8ff;}#sk-container-id-1 div.sk-toggleable__content pre {margin: 0.2em;color: black;border-radius: 0.25em;background-color: #f0f8ff;}#sk-container-id-1 input.sk-toggleable__control:checked~div.sk-toggleable__content {max-height: 200px;max-width: 100%;overflow: auto;}#sk-container-id-1 input.sk-toggleable__control:checked~label.sk-toggleable__label-arrow:before {content: \"▾\";}#sk-container-id-1 div.sk-estimator input.sk-toggleable__control:checked~label.sk-toggleable__label {background-color: #d4ebff;}#sk-container-id-1 div.sk-label input.sk-toggleable__control:checked~label.sk-toggleable__label {background-color: #d4ebff;}#sk-container-id-1 input.sk-hidden--visually {border: 0;clip: rect(1px 1px 1px 1px);clip: rect(1px, 1px, 1px, 1px);height: 1px;margin: -1px;overflow: hidden;padding: 0;position: absolute;width: 1px;}#sk-container-id-1 div.sk-estimator {font-family: monospace;background-color: #f0f8ff;border: 1px dotted black;border-radius: 0.25em;box-sizing: border-box;margin-bottom: 0.5em;}#sk-container-id-1 div.sk-estimator:hover {background-color: #d4ebff;}#sk-container-id-1 div.sk-parallel-item::after {content: \"\";width: 100%;border-bottom: 1px solid gray;flex-grow: 1;}#sk-container-id-1 div.sk-label:hover label.sk-toggleable__label {background-color: #d4ebff;}#sk-container-id-1 div.sk-serial::before {content: \"\";position: absolute;border-left: 1px solid gray;box-sizing: border-box;top: 0;bottom: 0;left: 50%;z-index: 0;}#sk-container-id-1 div.sk-serial {display: flex;flex-direction: column;align-items: center;background-color: white;padding-right: 0.2em;padding-left: 0.2em;position: relative;}#sk-container-id-1 div.sk-item {position: relative;z-index: 1;}#sk-container-id-1 div.sk-parallel {display: flex;align-items: stretch;justify-content: center;background-color: white;position: relative;}#sk-container-id-1 div.sk-item::before, #sk-container-id-1 div.sk-parallel-item::before {content: \"\";position: absolute;border-left: 1px solid gray;box-sizing: border-box;top: 0;bottom: 0;left: 50%;z-index: -1;}#sk-container-id-1 div.sk-parallel-item {display: flex;flex-direction: column;z-index: 1;position: relative;background-color: white;}#sk-container-id-1 div.sk-parallel-item:first-child::after {align-self: flex-end;width: 50%;}#sk-container-id-1 div.sk-parallel-item:last-child::after {align-self: flex-start;width: 50%;}#sk-container-id-1 div.sk-parallel-item:only-child::after {width: 0;}#sk-container-id-1 div.sk-dashed-wrapped {border: 1px dashed gray;margin: 0 0.4em 0.5em 0.4em;box-sizing: border-box;padding-bottom: 0.4em;background-color: white;}#sk-container-id-1 div.sk-label label {font-family: monospace;font-weight: bold;display: inline-block;line-height: 1.2em;}#sk-container-id-1 div.sk-label-container {text-align: center;}#sk-container-id-1 div.sk-container {/* jupyter's `normalize.less` sets `[hidden] { display: none; }` but bootstrap.min.css set `[hidden] { display: none !important; }` so we also need the `!important` here to be able to override the default hidden behavior on the sphinx rendered scikit-learn.org. See: https://github.com/scikit-learn/scikit-learn/issues/21755 */display: inline-block !important;position: relative;}#sk-container-id-1 div.sk-text-repr-fallback {display: none;}</style><div id=\"sk-container-id-1\" class=\"sk-top-container\"><div class=\"sk-text-repr-fallback\"><pre>SVC(kernel=&lt;function my_kernel at 0x000001D3F213B9A0&gt;)</pre><b>In a Jupyter environment, please rerun this cell to show the HTML representation or trust the notebook. <br />On GitHub, the HTML representation is unable to render, please try loading this page with nbviewer.org.</b></div><div class=\"sk-container\" hidden><div class=\"sk-item\"><div class=\"sk-estimator sk-toggleable\"><input class=\"sk-toggleable__control sk-hidden--visually\" id=\"sk-estimator-id-1\" type=\"checkbox\" checked><label for=\"sk-estimator-id-1\" class=\"sk-toggleable__label sk-toggleable__label-arrow\">SVC</label><div class=\"sk-toggleable__content\"><pre>SVC(kernel=&lt;function my_kernel at 0x000001D3F213B9A0&gt;)</pre></div></div></div></div></div>"
      ],
      "text/plain": [
       "SVC(kernel=<function my_kernel at 0x000001D3F213B9A0>)"
      ]
     },
     "execution_count": 24,
     "metadata": {},
     "output_type": "execute_result"
    }
   ],
   "source": [
    "clf4.fit(X4_train, y_train)"
   ]
  },
  {
   "cell_type": "code",
   "execution_count": 25,
   "id": "2b9c3df7",
   "metadata": {},
   "outputs": [
    {
     "data": {
      "text/plain": [
       "0    0\n",
       "1    1\n",
       "2    1\n",
       "3    1\n",
       "4    0\n",
       "5    0\n",
       "6    0\n",
       "7    0\n",
       "8    1\n",
       "9    1\n",
       "Name: target, dtype: int64"
      ]
     },
     "execution_count": 25,
     "metadata": {},
     "output_type": "execute_result"
    }
   ],
   "source": [
    "y[:10]"
   ]
  },
  {
   "cell_type": "code",
   "execution_count": 26,
   "id": "417dce15",
   "metadata": {},
   "outputs": [
    {
     "data": {
      "text/plain": [
       "0.6908396946564885"
      ]
     },
     "execution_count": 26,
     "metadata": {},
     "output_type": "execute_result"
    }
   ],
   "source": [
    "y_pred4 = clf4.predict(x4_test)\n",
    "accuracy4 = accuracy_score(y_test, y_pred4)\n",
    "accuracy4"
   ]
  },
  {
   "cell_type": "markdown",
   "id": "38d8869a",
   "metadata": {},
   "source": [
    "### Question 3.2"
   ]
  },
  {
   "cell_type": "code",
   "execution_count": 27,
   "id": "e8758c43",
   "metadata": {},
   "outputs": [],
   "source": [
    "X_train_new = X_train[['Age', 'Fare']]\n",
    "X_test_new = x_test[['Age', 'Fare']]"
   ]
  },
  {
   "cell_type": "code",
   "execution_count": 28,
   "id": "e534a72e",
   "metadata": {},
   "outputs": [],
   "source": [
    "xr, yr = X_train_new.values, y_train.values\n",
    "x_min, x_max = xr[:, 0].min() - 0.1, xr[:, 0].max() + 0.1\n",
    "y_min, y_max = xr[:, 1].min() - 0.1, xr[:, 1].max() + 0.1\n",
    "h = 0.01  # You can adjust this value to control the grid density\n",
    "xx, yy = np.meshgrid(np.arange(x_min, x_max, h),np.arange(y_min, y_max, h))\n",
    "def plotter(kernel, degree = 0):\n",
    "  poly3 = SVC(kernel=kernel, degree=degree)\n",
    "  poly3.fit(X_train_new, y_train)\n",
    "  poly3.fit(xr, yr)\n",
    "  Z = poly3.predict(np.c_[xx.ravel(), yy.ravel()])\n",
    "  Z = Z.reshape(xx.shape)\n",
    "  plt.contourf(xx, yy, Z, cmap=plt.cm.coolwarm, alpha=0.8)\n",
    "  plt.scatter(xr[:, 0], xr[:, 1], c=yr, cmap=plt.cm.coolwarm)\n",
    "  plt.xlabel('Age')\n",
    "  plt.ylabel('Fare')\n",
    "  plt.xlim(xx.min(), xx.max())\n",
    "  plt.ylim(yy.min(), yy.max())\n",
    "     "
   ]
  },
  {
   "cell_type": "code",
   "execution_count": null,
   "id": "a6bc777b",
   "metadata": {},
   "outputs": [],
   "source": [
    "plotter('linear')"
   ]
  },
  {
   "cell_type": "code",
   "execution_count": null,
   "id": "4ed28496",
   "metadata": {},
   "outputs": [],
   "source": [
    "# plotter('poly', 2)\n"
   ]
  },
  {
   "cell_type": "code",
   "execution_count": null,
   "id": "6256a6d8",
   "metadata": {},
   "outputs": [],
   "source": [
    "# plotter('sigmoid')\n"
   ]
  },
  {
   "cell_type": "code",
   "execution_count": null,
   "id": "fb369d1d",
   "metadata": {},
   "outputs": [],
   "source": [
    "# plotter('rbf')\n"
   ]
  },
  {
   "cell_type": "code",
   "execution_count": null,
   "id": "3e10e310",
   "metadata": {},
   "outputs": [],
   "source": [
    "# plotter('my_kernel')"
   ]
  },
  {
   "cell_type": "markdown",
   "id": "0de22520",
   "metadata": {},
   "source": [
    "##### Question 4.1 : For RBF kernel vary the control parameter C with a binary search technique to\n",
    "#### reach an optimal C value. Plot the graph for validation accuracy."
   ]
  },
  {
   "cell_type": "code",
   "execution_count": null,
   "id": "898817ae",
   "metadata": {},
   "outputs": [],
   "source": [
    "\n",
    "from sklearn.model_selection import cross_val_score\n",
    "\n",
    "# Define your training and validation data\n",
    "X_train, y_train = X4_train,y_train  # Your training data\n",
    "# X_valid, y_valid = ...  # Your validation data\n",
    "\n",
    "# Define the initial range for C and tolerance\n",
    "C_range = [0.01, 100]\n",
    "tolerance = 0.001\n",
    "\n",
    "# Initialize C to the midpoint of the range\n",
    "C = (C_range[0] + C_range[1]) / 2\n",
    "\n",
    "# Lists to store C values and their corresponding validation accuracies\n",
    "C_values = []\n",
    "validation_accuracies = []\n",
    "\n",
    "# Define thresholds for underfitting and overfitting\n",
    "underfitting_threshold = 0.8  # Adjust as needed\n",
    "overfitting_threshold = 0.95  # Adjust as needed\n",
    "\n",
    "# Perform binary search\n",
    "while (C_range[1] - C_range[0]) > tolerance:\n",
    "    # Create an SVM model with the current C\n",
    "    svm = SVC(C=C, kernel='rbf')\n",
    "\n",
    "    # Perform cross-validation to evaluate the model\n",
    "    scores = cross_val_score(svm, X_train, y_train, cv=5)  # You can adjust the number of folds\n",
    "\n",
    "    mean_score = scores.mean()\n",
    "\n",
    "    C_values.append(C)\n",
    "    validation_accuracies.append(mean_score)\n",
    "\n",
    "    if mean_score > overfitting_threshold:\n",
    "        C_range[1] = C  \n",
    "    elif mean_score < underfitting_threshold:\n",
    "        C_range[0] = C \n",
    "    else:\n",
    "        break  \n",
    "\n",
    "    # Update C to the midpoint of the new range\n",
    "    C = (C_range[0] + C_range[1]) / 2\n",
    "\n",
    "# Select the optimal C\n",
    "optimal_C = C\n",
    "\n",
    "# Plot the graph of C values vs. validation accuracies\n",
    "plt.figure(figsize=(10, 5))\n",
    "plt.semilogx(C_values, validation_accuracies, marker='o', linestyle='-', color='b')\n",
    "plt.title('Validation Accuracy vs. C Value')\n",
    "plt.xlabel('C Value (log scale)')\n",
    "plt.ylabel('Validation Accuracy')\n",
    "plt.grid(True)\n",
    "\n",
    "# Highlight underfitting and overfitting regions\n",
    "plt.axvline(x=C_values[0], color='r', linestyle='--', label='Underfitting')\n",
    "plt.axvline(x=C_values[-1], color='g', linestyle='--', label='Overfitting')\n",
    "\n",
    "plt.legend()\n",
    "plt.show()\n",
    "optimalC = optimal_C\n",
    "print(f\"Optimal C value is: {optimal_C}\")"
   ]
  },
  {
   "cell_type": "code",
   "execution_count": null,
   "id": "7588baab",
   "metadata": {},
   "outputs": [],
   "source": [
    "def optimize_svm_C(X_train, y_train, gamma=0.5, initial_range=[0.01, 100], tolerance=0.001, underfitting_threshold=0.8, overfitting_threshold=0.95):\n",
    "    # Initialize C to the midpoint of the range\n",
    "    C = (initial_range[0] + initial_range[1]) / 2\n",
    "\n",
    "    # Lists to store C values and their corresponding validation accuracies\n",
    "    C_values = []\n",
    "    validation_accuracies = []\n",
    "\n",
    "    # Perform binary search\n",
    "    while (initial_range[1] - initial_range[0]) > tolerance:\n",
    "        # Create an SVM model with the current C and fixed gamma\n",
    "        svm = SVC(C=C, kernel='rbf', gamma=gamma)\n",
    "\n",
    "        # Perform cross-validation to evaluate the model\n",
    "        scores = cross_val_score(svm, X_train, y_train, cv=5)\n",
    "\n",
    "        # Measure the model's performance\n",
    "        mean_score = scores.mean()\n",
    "\n",
    "        # Store the C value and validation accuracy\n",
    "        C_values.append(C)\n",
    "        validation_accuracies.append(mean_score)\n",
    "\n",
    "        if mean_score > overfitting_threshold:\n",
    "            initial_range[1] = C  # Adjust the upper bound of the range\n",
    "        elif mean_score < underfitting_threshold:\n",
    "            initial_range[0] = C  # Adjust the lower bound of the range\n",
    "        else:\n",
    "            break  # Stop the search when the accuracy is in the desired range\n",
    "\n",
    "        # Update C to the midpoint of the new range\n",
    "        C = (initial_range[0] + initial_range[1]) / 2\n",
    "\n",
    "    # Select the optimal C\n",
    "    optimal_C = C\n",
    "\n",
    "    # Plot the graph of C values vs. validation accuracies\n",
    "    plt.figure(figsize=(10, 5))\n",
    "    plt.semilogx(C_values, validation_accuracies, marker='o', linestyle='-', color='b')\n",
    "    plt.title('Validation Accuracy vs. C Value')\n",
    "    plt.xlabel('C Value (log scale)')\n",
    "    plt.ylabel('Validation Accuracy')\n",
    "    plt.grid(True)\n",
    "\n",
    "    # Highlight underfitting and overfitting regions\n",
    "    plt.axvline(x=C_values[0], color='r', linestyle='--', label='Underfitting')\n",
    "    plt.axvline(x=C_values[-1], color='g', linestyle='--', label='Overfitting')\n",
    "\n",
    "    plt.legend()\n",
    "    plt.show()\n",
    "\n",
    "    return optimal_C\n",
    "\n",
    "optimal_C2 = optimize_svm_C(X_train, y_train, gamma=0.5)\n",
    "print(f\"Optimal C value is: {optimal_C2}\")"
   ]
  },
  {
   "cell_type": "code",
   "execution_count": null,
   "id": "d615b3e4",
   "metadata": {},
   "outputs": [],
   "source": [
    "best_c = optimal_C  # Replace with the C value with maximum validation accuracy\n",
    "\n",
    "# Define a range of gamma values for the binary search\n",
    "gamma_values = [0.01, 100]\n",
    "\n",
    "# Initialize binary search parameters\n",
    "# low, high = 0, len(gamma_values) - 1\n",
    "\n",
    "best_gamma = None\n",
    "best_accuracy = 0\n",
    "\n",
    "# Perform binary search for gamma\n",
    "while low <= high:\n",
    "    mid = (low + high) // 2\n",
    "    gamma = gamma_values[mid\n",
    "    \n",
    "    # Train an SVM with the best C and the current gamma value\n",
    "    svm = SVC(C=best_c, gamma=gamma, kernel='rbf')\n",
    "    svm.fit(X_train, y_train)\n",
    "    \n",
    "    # Evaluate the model on the validation set\n",
    "    y_pred = svm.predict(X_val)\n",
    "    accuracy = accuracy_score(y_val, y_pred)\n",
    "    \n",
    "    if accuracy > best_accuracy:\n",
    "        best_accuracy = accuracy\n",
    "        best_gamma = gamma\n",
    "    \n",
    "    if accuracy == 1.0:\n",
    "        # Perfect accuracy, no need to search further\n",
    "        break\n",
    "    elif accuracy < best_accuracy:\n",
    "        # If accuracy is decreasing, move to the lower half\n",
    "        high = mid - 1\n",
    "    else:\n",
    "        # If accuracy is increasing, move to the upper half\n",
    "        low = mid + 1\n",
    "\n",
    "print(f\"Optimal Gamma value: {best_gamma}\")\n",
    " "
   ]
  },
  {
   "cell_type": "code",
   "execution_count": null,
   "id": "54e941a3",
   "metadata": {},
   "outputs": [],
   "source": [
    "\n"
   ]
  },
  {
   "cell_type": "code",
   "execution_count": null,
   "id": "5c24ebbf",
   "metadata": {},
   "outputs": [],
   "source": [
    "from sklearn.svm import SVC\n",
    "from sklearn.model_selection import cross_val_score\n",
    "import matplotlib.pyplot as plt\n",
    "\n",
    "def optimize_svm_Gamma(X_train, y_train, optimal_C, initial_range=[0.01, 100], tolerance=0.001, underfitting_threshold=0.8, overfitting_threshold=0.95):\n",
    "    # Initialize gamma to the midpoint of the range\n",
    "    gamma = (initial_range[0] + initial_range[1]) / 2\n",
    "\n",
    "    # Lists to store gamma values and their corresponding validation accuracies\n",
    "    gamma_values = []\n",
    "    validation_accuracies = []\n",
    "\n",
    "    # Perform binary search\n",
    "    while (initial_range[1] - initial_range[0]) > tolerance:\n",
    "        # Create an SVM model with the optimal C and the current gamma\n",
    "        svm = SVC(C=optimal_C, kernel='rbf', gamma=gamma)\n",
    "\n",
    "        # Perform cross-validation to evaluate the model\n",
    "        scores = cross_val_score(svm, X_train, y_train, cv=5)\n",
    "\n",
    "        # Measure the model's performance\n",
    "        mean_score = scores.mean()\n",
    "\n",
    "        # Store the gamma value and validation accuracy\n",
    "        gamma_values.append(gamma)\n",
    "        validation_accuracies.append(mean_score)\n",
    "\n",
    "        if mean_score > overfitting_threshold:\n",
    "            initial_range[1] = gamma  # Adjust the upper bound of the range\n",
    "        elif mean_score < underfitting_threshold:\n",
    "            initial_range[0] = gamma  # Adjust the lower bound of the range\n",
    "        else:\n",
    "            break  # Stop the search when the accuracy is in the desired range\n",
    "\n",
    "        # Update gamma to the midpoint of the new range\n",
    "        gamma = (initial_range[0] + initial_range[1]) / 2\n",
    "\n",
    "    # Select the optimal gamma\n",
    "    optimal_gamma = gamma\n",
    "\n",
    "    # Plot the graph of gamma values vs. validation accuracies\n",
    "    plt.figure(figsize=(10, 5))\n",
    "    plt.semilogx(gamma_values, validation_accuracies, marker='o', linestyle='-', color='b')\n",
    "    plt.title('Validation Accuracy vs. Gamma Value')\n",
    "    plt.xlabel('Gamma Value (log scale)')\n",
    "    plt.ylabel('Validation Accuracy')\n",
    "    plt.grid(True)\n",
    "\n",
    "    # Highlight underfitting and overfitting regions\n",
    "    plt.axvline(x=gamma_values[0], color='r', linestyle='--', label='Underfitting')\n",
    "    plt.axvline(x=gamma_values[-1], color='g', linestyle='--', label='Overfitting')\n",
    "\n",
    "    plt.legend()\n",
    "    plt.show()\n",
    "\n",
    "    return optimal_gamma\n",
    "\n",
    "# Example usage\n",
    "# optimal_C = optimal_C  # Replace with your optimal C value\n",
    "\n",
    "optimal_gamma = optimize_svm_Gamma(X_train, y_train, optimal_C)\n",
    "print(f\"Optimal Gamma value is: {optimal_gamma}\")\n"
   ]
  },
  {
   "cell_type": "code",
   "execution_count": null,
   "id": "9962d074",
   "metadata": {},
   "outputs": [],
   "source": []
  }
 ],
 "metadata": {
  "kernelspec": {
   "display_name": "Python 3 (ipykernel)",
   "language": "python",
   "name": "python3"
  },
  "language_info": {
   "codemirror_mode": {
    "name": "ipython",
    "version": 3
   },
   "file_extension": ".py",
   "mimetype": "text/x-python",
   "name": "python",
   "nbconvert_exporter": "python",
   "pygments_lexer": "ipython3",
   "version": "3.10.2"
  }
 },
 "nbformat": 4,
 "nbformat_minor": 5
}
